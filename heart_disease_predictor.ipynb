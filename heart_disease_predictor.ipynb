{
  "nbformat": 4,
  "nbformat_minor": 0,
  "metadata": {
    "colab": {
      "provenance": [],
      "include_colab_link": true
    },
    "kernelspec": {
      "name": "python3",
      "display_name": "Python 3"
    },
    "language_info": {
      "name": "python"
    }
  },
  "cells": [
    {
      "cell_type": "markdown",
      "metadata": {
        "id": "view-in-github",
        "colab_type": "text"
      },
      "source": [
        "<a href=\"https://colab.research.google.com/github/aypy01/scikit-learn/blob/main/heart_disease_predictor.ipynb\" target=\"_parent\"><img src=\"https://colab.research.google.com/assets/colab-badge.svg\" alt=\"Open In Colab\"/></a>"
      ]
    },
    {
      "cell_type": "markdown",
      "source": [
        "# Heart Disease Risk Prediction using Machine Learning\n",
        "\n",
        "Welcome to this beginner-friendly end-to-end machine learning project where you’ll build a **Heart Disease Risk Predictor** using real-world health data from the **heart.csv**.\n",
        "\n",
        "---\n",
        "\n",
        "\n",
        "\n",
        "## What You’ll Learn\n",
        "\n",
        "In this project, you’ll walk through the **entire machine learning pipeline**  from raw CSV to intelligent prediction:\n",
        "\n",
        "###  1. Data Understanding & Cleaning\n",
        "- Load medical data using `pandas`\n",
        "- Handle missing values, outliers, and irrelevant features\n",
        "- Make decisions like **dropping columns** (e.g., `education`) that don’t directly contribute to model performance\n",
        "\n",
        "###  2. Data Preprocessing\n",
        "- Encode categorical values (e.g., Male/Female, Yes/No)\n",
        "- Feature scaling using `StandardScaler`\n",
        "- Train-test splitting for fair evaluation\n",
        "\n",
        "###  3. Model Training & Comparison\n",
        "- Train multiple classification models:\n",
        "  - Logistic Regression\n",
        "  - KNN\n",
        "  - Decision Tree\n",
        "  - Random Forest\n",
        "  - SVM, etc.\n",
        "- Evaluate them using:\n",
        "  - Accuracy\n",
        "  - Precision\n",
        "  - Recall\n",
        "  - F1-Score\n",
        "\n",
        "###  4. Model Selection & Saving\n",
        "- Automatically select the best model based on metrics\n",
        "- Save it using `pickle` for future use\n",
        "- Save the associated scaler object for consistent input formatting\n",
        "\n",
        "###  5. Building a Real-Time Predictor\n",
        "- Testing the trained model + scaler to make live predictions\n",
        "- Add fun, humorous terminal messages to make it feel interactive\n",
        "\n",
        "---\n",
        "\n",
        "\n",
        "\n",
        "\n",
        "##  Final Output\n",
        "\n",
        "At the end of this project, you’ll have:\n",
        "\n",
        "- A trained and saved Machine Learning model (`best_model.pkl` and `scaler.pkl`)\n",
        "using the saved model\n",
        "- Confidence working with `pandas`, `scikit-learn`,`matplotlib` and deploying ML models\n",
        "- Insights into which health features influence **heart disease** risk the most\n",
        "\n",
        "\n",
        "\n",
        "---\n",
        "\n"
      ],
      "metadata": {
        "id": "9igvxkHNb2RI"
      }
    },
    {
      "cell_type": "markdown",
      "source": [
        "## Dataset Information\n",
        "This notebook uses the \"Heart Disease Dataset\" from Kaggle.\n",
        "Download link\n",
        "[download ](https://www.kaggle.com/datasets/johnsmith88/heart-disease-dataset)\n",
        "\n",
        "The dataset is downloaded using kagglehub, which handles\n",
        "automatic fetching and local storage."
      ],
      "metadata": {
        "id": "eNeVyAZpQUqw"
      }
    },
    {
      "cell_type": "markdown",
      "source": [
        "##Importing Libraries"
      ],
      "metadata": {
        "id": "uTdoKZIvBV2h"
      }
    },
    {
      "cell_type": "code",
      "execution_count": 343,
      "metadata": {
        "id": "ueJw7q0X8Lmt"
      },
      "outputs": [],
      "source": [
        "import pandas as pd\n",
        "import numpy as np\n",
        "\n",
        "import matplotlib.pylab as plt\n",
        "\n",
        "from sklearn.model_selection import train_test_split\n"
      ]
    },
    {
      "cell_type": "markdown",
      "source": [
        "## Loading the Dataset\n",
        "\n",
        "The dataset is loaded from a CSV file using `pd.read_csv()` and stored in a variable called `dataset`.\n"
      ],
      "metadata": {
        "id": "nTxtL1jDBrWu"
      }
    },
    {
      "cell_type": "code",
      "source": [
        "# dataset= Data frame , a common variable to define a variable in pandas\n",
        "dataset = pd.read_csv(\"heart.csv\")\n",
        "dataset.tail()\n"
      ],
      "metadata": {
        "colab": {
          "base_uri": "https://localhost:8080/",
          "height": 206
        },
        "id": "RdQS-Poa8g9-",
        "outputId": "9ce56ff4-0044-46cf-ff38-aa7d0697ddb6"
      },
      "execution_count": 344,
      "outputs": [
        {
          "output_type": "execute_result",
          "data": {
            "text/plain": [
              "      age  sex  cp  trestbps  chol  fbs  restecg  thalach  exang  oldpeak  \\\n",
              "1020   59    1   1       140   221    0        1      164      1      0.0   \n",
              "1021   60    1   0       125   258    0        0      141      1      2.8   \n",
              "1022   47    1   0       110   275    0        0      118      1      1.0   \n",
              "1023   50    0   0       110   254    0        0      159      0      0.0   \n",
              "1024   54    1   0       120   188    0        1      113      0      1.4   \n",
              "\n",
              "      slope  ca  thal  target  \n",
              "1020      2   0     2       1  \n",
              "1021      1   1     3       0  \n",
              "1022      1   1     2       0  \n",
              "1023      2   0     2       1  \n",
              "1024      1   1     3       0  "
            ],
            "text/html": [
              "\n",
              "  <div id=\"df-deac2ac9-8209-42ec-9222-57c904cfb191\" class=\"colab-df-container\">\n",
              "    <div>\n",
              "<style scoped>\n",
              "    .dataframe tbody tr th:only-of-type {\n",
              "        vertical-align: middle;\n",
              "    }\n",
              "\n",
              "    .dataframe tbody tr th {\n",
              "        vertical-align: top;\n",
              "    }\n",
              "\n",
              "    .dataframe thead th {\n",
              "        text-align: right;\n",
              "    }\n",
              "</style>\n",
              "<table border=\"1\" class=\"dataframe\">\n",
              "  <thead>\n",
              "    <tr style=\"text-align: right;\">\n",
              "      <th></th>\n",
              "      <th>age</th>\n",
              "      <th>sex</th>\n",
              "      <th>cp</th>\n",
              "      <th>trestbps</th>\n",
              "      <th>chol</th>\n",
              "      <th>fbs</th>\n",
              "      <th>restecg</th>\n",
              "      <th>thalach</th>\n",
              "      <th>exang</th>\n",
              "      <th>oldpeak</th>\n",
              "      <th>slope</th>\n",
              "      <th>ca</th>\n",
              "      <th>thal</th>\n",
              "      <th>target</th>\n",
              "    </tr>\n",
              "  </thead>\n",
              "  <tbody>\n",
              "    <tr>\n",
              "      <th>1020</th>\n",
              "      <td>59</td>\n",
              "      <td>1</td>\n",
              "      <td>1</td>\n",
              "      <td>140</td>\n",
              "      <td>221</td>\n",
              "      <td>0</td>\n",
              "      <td>1</td>\n",
              "      <td>164</td>\n",
              "      <td>1</td>\n",
              "      <td>0.0</td>\n",
              "      <td>2</td>\n",
              "      <td>0</td>\n",
              "      <td>2</td>\n",
              "      <td>1</td>\n",
              "    </tr>\n",
              "    <tr>\n",
              "      <th>1021</th>\n",
              "      <td>60</td>\n",
              "      <td>1</td>\n",
              "      <td>0</td>\n",
              "      <td>125</td>\n",
              "      <td>258</td>\n",
              "      <td>0</td>\n",
              "      <td>0</td>\n",
              "      <td>141</td>\n",
              "      <td>1</td>\n",
              "      <td>2.8</td>\n",
              "      <td>1</td>\n",
              "      <td>1</td>\n",
              "      <td>3</td>\n",
              "      <td>0</td>\n",
              "    </tr>\n",
              "    <tr>\n",
              "      <th>1022</th>\n",
              "      <td>47</td>\n",
              "      <td>1</td>\n",
              "      <td>0</td>\n",
              "      <td>110</td>\n",
              "      <td>275</td>\n",
              "      <td>0</td>\n",
              "      <td>0</td>\n",
              "      <td>118</td>\n",
              "      <td>1</td>\n",
              "      <td>1.0</td>\n",
              "      <td>1</td>\n",
              "      <td>1</td>\n",
              "      <td>2</td>\n",
              "      <td>0</td>\n",
              "    </tr>\n",
              "    <tr>\n",
              "      <th>1023</th>\n",
              "      <td>50</td>\n",
              "      <td>0</td>\n",
              "      <td>0</td>\n",
              "      <td>110</td>\n",
              "      <td>254</td>\n",
              "      <td>0</td>\n",
              "      <td>0</td>\n",
              "      <td>159</td>\n",
              "      <td>0</td>\n",
              "      <td>0.0</td>\n",
              "      <td>2</td>\n",
              "      <td>0</td>\n",
              "      <td>2</td>\n",
              "      <td>1</td>\n",
              "    </tr>\n",
              "    <tr>\n",
              "      <th>1024</th>\n",
              "      <td>54</td>\n",
              "      <td>1</td>\n",
              "      <td>0</td>\n",
              "      <td>120</td>\n",
              "      <td>188</td>\n",
              "      <td>0</td>\n",
              "      <td>1</td>\n",
              "      <td>113</td>\n",
              "      <td>0</td>\n",
              "      <td>1.4</td>\n",
              "      <td>1</td>\n",
              "      <td>1</td>\n",
              "      <td>3</td>\n",
              "      <td>0</td>\n",
              "    </tr>\n",
              "  </tbody>\n",
              "</table>\n",
              "</div>\n",
              "    <div class=\"colab-df-buttons\">\n",
              "\n",
              "  <div class=\"colab-df-container\">\n",
              "    <button class=\"colab-df-convert\" onclick=\"convertToInteractive('df-deac2ac9-8209-42ec-9222-57c904cfb191')\"\n",
              "            title=\"Convert this dataframe to an interactive table.\"\n",
              "            style=\"display:none;\">\n",
              "\n",
              "  <svg xmlns=\"http://www.w3.org/2000/svg\" height=\"24px\" viewBox=\"0 -960 960 960\">\n",
              "    <path d=\"M120-120v-720h720v720H120Zm60-500h600v-160H180v160Zm220 220h160v-160H400v160Zm0 220h160v-160H400v160ZM180-400h160v-160H180v160Zm440 0h160v-160H620v160ZM180-180h160v-160H180v160Zm440 0h160v-160H620v160Z\"/>\n",
              "  </svg>\n",
              "    </button>\n",
              "\n",
              "  <style>\n",
              "    .colab-df-container {\n",
              "      display:flex;\n",
              "      gap: 12px;\n",
              "    }\n",
              "\n",
              "    .colab-df-convert {\n",
              "      background-color: #E8F0FE;\n",
              "      border: none;\n",
              "      border-radius: 50%;\n",
              "      cursor: pointer;\n",
              "      display: none;\n",
              "      fill: #1967D2;\n",
              "      height: 32px;\n",
              "      padding: 0 0 0 0;\n",
              "      width: 32px;\n",
              "    }\n",
              "\n",
              "    .colab-df-convert:hover {\n",
              "      background-color: #E2EBFA;\n",
              "      box-shadow: 0px 1px 2px rgba(60, 64, 67, 0.3), 0px 1px 3px 1px rgba(60, 64, 67, 0.15);\n",
              "      fill: #174EA6;\n",
              "    }\n",
              "\n",
              "    .colab-df-buttons div {\n",
              "      margin-bottom: 4px;\n",
              "    }\n",
              "\n",
              "    [theme=dark] .colab-df-convert {\n",
              "      background-color: #3B4455;\n",
              "      fill: #D2E3FC;\n",
              "    }\n",
              "\n",
              "    [theme=dark] .colab-df-convert:hover {\n",
              "      background-color: #434B5C;\n",
              "      box-shadow: 0px 1px 3px 1px rgba(0, 0, 0, 0.15);\n",
              "      filter: drop-shadow(0px 1px 2px rgba(0, 0, 0, 0.3));\n",
              "      fill: #FFFFFF;\n",
              "    }\n",
              "  </style>\n",
              "\n",
              "    <script>\n",
              "      const buttonEl =\n",
              "        document.querySelector('#df-deac2ac9-8209-42ec-9222-57c904cfb191 button.colab-df-convert');\n",
              "      buttonEl.style.display =\n",
              "        google.colab.kernel.accessAllowed ? 'block' : 'none';\n",
              "\n",
              "      async function convertToInteractive(key) {\n",
              "        const element = document.querySelector('#df-deac2ac9-8209-42ec-9222-57c904cfb191');\n",
              "        const dataTable =\n",
              "          await google.colab.kernel.invokeFunction('convertToInteractive',\n",
              "                                                    [key], {});\n",
              "        if (!dataTable) return;\n",
              "\n",
              "        const docLinkHtml = 'Like what you see? Visit the ' +\n",
              "          '<a target=\"_blank\" href=https://colab.research.google.com/notebooks/data_table.ipynb>data table notebook</a>'\n",
              "          + ' to learn more about interactive tables.';\n",
              "        element.innerHTML = '';\n",
              "        dataTable['output_type'] = 'display_data';\n",
              "        await google.colab.output.renderOutput(dataTable, element);\n",
              "        const docLink = document.createElement('div');\n",
              "        docLink.innerHTML = docLinkHtml;\n",
              "        element.appendChild(docLink);\n",
              "      }\n",
              "    </script>\n",
              "  </div>\n",
              "\n",
              "\n",
              "    <div id=\"df-59166c0d-4a7a-4a4b-947f-dfee9f76f546\">\n",
              "      <button class=\"colab-df-quickchart\" onclick=\"quickchart('df-59166c0d-4a7a-4a4b-947f-dfee9f76f546')\"\n",
              "                title=\"Suggest charts\"\n",
              "                style=\"display:none;\">\n",
              "\n",
              "<svg xmlns=\"http://www.w3.org/2000/svg\" height=\"24px\"viewBox=\"0 0 24 24\"\n",
              "     width=\"24px\">\n",
              "    <g>\n",
              "        <path d=\"M19 3H5c-1.1 0-2 .9-2 2v14c0 1.1.9 2 2 2h14c1.1 0 2-.9 2-2V5c0-1.1-.9-2-2-2zM9 17H7v-7h2v7zm4 0h-2V7h2v10zm4 0h-2v-4h2v4z\"/>\n",
              "    </g>\n",
              "</svg>\n",
              "      </button>\n",
              "\n",
              "<style>\n",
              "  .colab-df-quickchart {\n",
              "      --bg-color: #E8F0FE;\n",
              "      --fill-color: #1967D2;\n",
              "      --hover-bg-color: #E2EBFA;\n",
              "      --hover-fill-color: #174EA6;\n",
              "      --disabled-fill-color: #AAA;\n",
              "      --disabled-bg-color: #DDD;\n",
              "  }\n",
              "\n",
              "  [theme=dark] .colab-df-quickchart {\n",
              "      --bg-color: #3B4455;\n",
              "      --fill-color: #D2E3FC;\n",
              "      --hover-bg-color: #434B5C;\n",
              "      --hover-fill-color: #FFFFFF;\n",
              "      --disabled-bg-color: #3B4455;\n",
              "      --disabled-fill-color: #666;\n",
              "  }\n",
              "\n",
              "  .colab-df-quickchart {\n",
              "    background-color: var(--bg-color);\n",
              "    border: none;\n",
              "    border-radius: 50%;\n",
              "    cursor: pointer;\n",
              "    display: none;\n",
              "    fill: var(--fill-color);\n",
              "    height: 32px;\n",
              "    padding: 0;\n",
              "    width: 32px;\n",
              "  }\n",
              "\n",
              "  .colab-df-quickchart:hover {\n",
              "    background-color: var(--hover-bg-color);\n",
              "    box-shadow: 0 1px 2px rgba(60, 64, 67, 0.3), 0 1px 3px 1px rgba(60, 64, 67, 0.15);\n",
              "    fill: var(--button-hover-fill-color);\n",
              "  }\n",
              "\n",
              "  .colab-df-quickchart-complete:disabled,\n",
              "  .colab-df-quickchart-complete:disabled:hover {\n",
              "    background-color: var(--disabled-bg-color);\n",
              "    fill: var(--disabled-fill-color);\n",
              "    box-shadow: none;\n",
              "  }\n",
              "\n",
              "  .colab-df-spinner {\n",
              "    border: 2px solid var(--fill-color);\n",
              "    border-color: transparent;\n",
              "    border-bottom-color: var(--fill-color);\n",
              "    animation:\n",
              "      spin 1s steps(1) infinite;\n",
              "  }\n",
              "\n",
              "  @keyframes spin {\n",
              "    0% {\n",
              "      border-color: transparent;\n",
              "      border-bottom-color: var(--fill-color);\n",
              "      border-left-color: var(--fill-color);\n",
              "    }\n",
              "    20% {\n",
              "      border-color: transparent;\n",
              "      border-left-color: var(--fill-color);\n",
              "      border-top-color: var(--fill-color);\n",
              "    }\n",
              "    30% {\n",
              "      border-color: transparent;\n",
              "      border-left-color: var(--fill-color);\n",
              "      border-top-color: var(--fill-color);\n",
              "      border-right-color: var(--fill-color);\n",
              "    }\n",
              "    40% {\n",
              "      border-color: transparent;\n",
              "      border-right-color: var(--fill-color);\n",
              "      border-top-color: var(--fill-color);\n",
              "    }\n",
              "    60% {\n",
              "      border-color: transparent;\n",
              "      border-right-color: var(--fill-color);\n",
              "    }\n",
              "    80% {\n",
              "      border-color: transparent;\n",
              "      border-right-color: var(--fill-color);\n",
              "      border-bottom-color: var(--fill-color);\n",
              "    }\n",
              "    90% {\n",
              "      border-color: transparent;\n",
              "      border-bottom-color: var(--fill-color);\n",
              "    }\n",
              "  }\n",
              "</style>\n",
              "\n",
              "      <script>\n",
              "        async function quickchart(key) {\n",
              "          const quickchartButtonEl =\n",
              "            document.querySelector('#' + key + ' button');\n",
              "          quickchartButtonEl.disabled = true;  // To prevent multiple clicks.\n",
              "          quickchartButtonEl.classList.add('colab-df-spinner');\n",
              "          try {\n",
              "            const charts = await google.colab.kernel.invokeFunction(\n",
              "                'suggestCharts', [key], {});\n",
              "          } catch (error) {\n",
              "            console.error('Error during call to suggestCharts:', error);\n",
              "          }\n",
              "          quickchartButtonEl.classList.remove('colab-df-spinner');\n",
              "          quickchartButtonEl.classList.add('colab-df-quickchart-complete');\n",
              "        }\n",
              "        (() => {\n",
              "          let quickchartButtonEl =\n",
              "            document.querySelector('#df-59166c0d-4a7a-4a4b-947f-dfee9f76f546 button');\n",
              "          quickchartButtonEl.style.display =\n",
              "            google.colab.kernel.accessAllowed ? 'block' : 'none';\n",
              "        })();\n",
              "      </script>\n",
              "    </div>\n",
              "\n",
              "    </div>\n",
              "  </div>\n"
            ],
            "application/vnd.google.colaboratory.intrinsic+json": {
              "type": "dataframe",
              "summary": "{\n  \"name\": \"dataset\",\n  \"rows\": 5,\n  \"fields\": [\n    {\n      \"column\": \"age\",\n      \"properties\": {\n        \"dtype\": \"number\",\n        \"std\": 5,\n        \"min\": 47,\n        \"max\": 60,\n        \"num_unique_values\": 5,\n        \"samples\": [\n          60,\n          54,\n          47\n        ],\n        \"semantic_type\": \"\",\n        \"description\": \"\"\n      }\n    },\n    {\n      \"column\": \"sex\",\n      \"properties\": {\n        \"dtype\": \"number\",\n        \"std\": 0,\n        \"min\": 0,\n        \"max\": 1,\n        \"num_unique_values\": 2,\n        \"samples\": [\n          0,\n          1\n        ],\n        \"semantic_type\": \"\",\n        \"description\": \"\"\n      }\n    },\n    {\n      \"column\": \"cp\",\n      \"properties\": {\n        \"dtype\": \"number\",\n        \"std\": 0,\n        \"min\": 0,\n        \"max\": 1,\n        \"num_unique_values\": 2,\n        \"samples\": [\n          0,\n          1\n        ],\n        \"semantic_type\": \"\",\n        \"description\": \"\"\n      }\n    },\n    {\n      \"column\": \"trestbps\",\n      \"properties\": {\n        \"dtype\": \"number\",\n        \"std\": 12,\n        \"min\": 110,\n        \"max\": 140,\n        \"num_unique_values\": 4,\n        \"samples\": [\n          125,\n          120\n        ],\n        \"semantic_type\": \"\",\n        \"description\": \"\"\n      }\n    },\n    {\n      \"column\": \"chol\",\n      \"properties\": {\n        \"dtype\": \"number\",\n        \"std\": 34,\n        \"min\": 188,\n        \"max\": 275,\n        \"num_unique_values\": 5,\n        \"samples\": [\n          258,\n          188\n        ],\n        \"semantic_type\": \"\",\n        \"description\": \"\"\n      }\n    },\n    {\n      \"column\": \"fbs\",\n      \"properties\": {\n        \"dtype\": \"number\",\n        \"std\": 0,\n        \"min\": 0,\n        \"max\": 0,\n        \"num_unique_values\": 1,\n        \"samples\": [\n          0\n        ],\n        \"semantic_type\": \"\",\n        \"description\": \"\"\n      }\n    },\n    {\n      \"column\": \"restecg\",\n      \"properties\": {\n        \"dtype\": \"number\",\n        \"std\": 0,\n        \"min\": 0,\n        \"max\": 1,\n        \"num_unique_values\": 2,\n        \"samples\": [\n          0\n        ],\n        \"semantic_type\": \"\",\n        \"description\": \"\"\n      }\n    },\n    {\n      \"column\": \"thalach\",\n      \"properties\": {\n        \"dtype\": \"number\",\n        \"std\": 23,\n        \"min\": 113,\n        \"max\": 164,\n        \"num_unique_values\": 5,\n        \"samples\": [\n          141\n        ],\n        \"semantic_type\": \"\",\n        \"description\": \"\"\n      }\n    },\n    {\n      \"column\": \"exang\",\n      \"properties\": {\n        \"dtype\": \"number\",\n        \"std\": 0,\n        \"min\": 0,\n        \"max\": 1,\n        \"num_unique_values\": 2,\n        \"samples\": [\n          0\n        ],\n        \"semantic_type\": \"\",\n        \"description\": \"\"\n      }\n    },\n    {\n      \"column\": \"oldpeak\",\n      \"properties\": {\n        \"dtype\": \"number\",\n        \"std\": 1.1610340218959994,\n        \"min\": 0.0,\n        \"max\": 2.8,\n        \"num_unique_values\": 4,\n        \"samples\": [\n          2.8\n        ],\n        \"semantic_type\": \"\",\n        \"description\": \"\"\n      }\n    },\n    {\n      \"column\": \"slope\",\n      \"properties\": {\n        \"dtype\": \"number\",\n        \"std\": 0,\n        \"min\": 1,\n        \"max\": 2,\n        \"num_unique_values\": 2,\n        \"samples\": [\n          1\n        ],\n        \"semantic_type\": \"\",\n        \"description\": \"\"\n      }\n    },\n    {\n      \"column\": \"ca\",\n      \"properties\": {\n        \"dtype\": \"number\",\n        \"std\": 0,\n        \"min\": 0,\n        \"max\": 1,\n        \"num_unique_values\": 2,\n        \"samples\": [\n          1\n        ],\n        \"semantic_type\": \"\",\n        \"description\": \"\"\n      }\n    },\n    {\n      \"column\": \"thal\",\n      \"properties\": {\n        \"dtype\": \"number\",\n        \"std\": 0,\n        \"min\": 2,\n        \"max\": 3,\n        \"num_unique_values\": 2,\n        \"samples\": [\n          3\n        ],\n        \"semantic_type\": \"\",\n        \"description\": \"\"\n      }\n    },\n    {\n      \"column\": \"target\",\n      \"properties\": {\n        \"dtype\": \"number\",\n        \"std\": 0,\n        \"min\": 0,\n        \"max\": 1,\n        \"num_unique_values\": 2,\n        \"samples\": [\n          0\n        ],\n        \"semantic_type\": \"\",\n        \"description\": \"\"\n      }\n    }\n  ]\n}"
            }
          },
          "metadata": {},
          "execution_count": 344
        }
      ]
    },
    {
      "cell_type": "code",
      "source": [
        "# Show the shape of the dataset: (rows, columns)\n",
        "dataset.shape\n",
        "\n",
        "# We'll see the missing values next (e.g., by filling or dropping them)"
      ],
      "metadata": {
        "colab": {
          "base_uri": "https://localhost:8080/"
        },
        "id": "_1vd1OxDrO8G",
        "outputId": "c329f7c6-3b45-4af3-e834-ea98d3224f3a"
      },
      "execution_count": 315,
      "outputs": [
        {
          "output_type": "execute_result",
          "data": {
            "text/plain": [
              "(1025, 14)"
            ]
          },
          "metadata": {},
          "execution_count": 315
        }
      ]
    },
    {
      "cell_type": "markdown",
      "source": [
        "## Checking for Missing Values\n",
        "\n",
        "We inspect null (missing) values in the dataset using `dataset.isnull().sum()`:\n",
        "\n",
        "- `dataset.isnull().sum()`  \n",
        "  → Returns the count of nulls in each column.\n",
        "\n",
        "- `dataset.isnull().sum().to_frame().T`  \n",
        "  → Converts the null counts into a DataFrame and transposes it to show column names horizontally for compact viewing.\n",
        "\n",
        "- `dataset.shape`  \n",
        "  → Displays the number of rows and columns in the dataset as `(rows, columns)`.\n",
        "\n",
        "\n",
        "After identifying missing values, we plan to handle them appropriately in the next step.\n"
      ],
      "metadata": {
        "id": "nrm6ci2JB3_Z"
      }
    },
    {
      "cell_type": "code",
      "source": [
        "# Display number of missing values in each column\n",
        "print(\"Missing values per column:\")\n",
        "dataset.isnull().sum().to_frame().T\n",
        "\n",
        "#It looks very balanced dataset"
      ],
      "metadata": {
        "colab": {
          "base_uri": "https://localhost:8080/",
          "height": 98
        },
        "id": "i82URqYq8wJe",
        "outputId": "9977ed52-b01a-41bd-dda1-7bc1aaf042b2"
      },
      "execution_count": 316,
      "outputs": [
        {
          "output_type": "stream",
          "name": "stdout",
          "text": [
            "Missing values per column:\n"
          ]
        },
        {
          "output_type": "execute_result",
          "data": {
            "text/plain": [
              "   age  sex  cp  trestbps  chol  fbs  restecg  thalach  exang  oldpeak  slope  \\\n",
              "0    0    0   0         0     0    0        0        0      0        0      0   \n",
              "\n",
              "   ca  thal  target  \n",
              "0   0     0       0  "
            ],
            "text/html": [
              "\n",
              "  <div id=\"df-d7bff218-aa71-4dca-840a-440cb79589b2\" class=\"colab-df-container\">\n",
              "    <div>\n",
              "<style scoped>\n",
              "    .dataframe tbody tr th:only-of-type {\n",
              "        vertical-align: middle;\n",
              "    }\n",
              "\n",
              "    .dataframe tbody tr th {\n",
              "        vertical-align: top;\n",
              "    }\n",
              "\n",
              "    .dataframe thead th {\n",
              "        text-align: right;\n",
              "    }\n",
              "</style>\n",
              "<table border=\"1\" class=\"dataframe\">\n",
              "  <thead>\n",
              "    <tr style=\"text-align: right;\">\n",
              "      <th></th>\n",
              "      <th>age</th>\n",
              "      <th>sex</th>\n",
              "      <th>cp</th>\n",
              "      <th>trestbps</th>\n",
              "      <th>chol</th>\n",
              "      <th>fbs</th>\n",
              "      <th>restecg</th>\n",
              "      <th>thalach</th>\n",
              "      <th>exang</th>\n",
              "      <th>oldpeak</th>\n",
              "      <th>slope</th>\n",
              "      <th>ca</th>\n",
              "      <th>thal</th>\n",
              "      <th>target</th>\n",
              "    </tr>\n",
              "  </thead>\n",
              "  <tbody>\n",
              "    <tr>\n",
              "      <th>0</th>\n",
              "      <td>0</td>\n",
              "      <td>0</td>\n",
              "      <td>0</td>\n",
              "      <td>0</td>\n",
              "      <td>0</td>\n",
              "      <td>0</td>\n",
              "      <td>0</td>\n",
              "      <td>0</td>\n",
              "      <td>0</td>\n",
              "      <td>0</td>\n",
              "      <td>0</td>\n",
              "      <td>0</td>\n",
              "      <td>0</td>\n",
              "      <td>0</td>\n",
              "    </tr>\n",
              "  </tbody>\n",
              "</table>\n",
              "</div>\n",
              "    <div class=\"colab-df-buttons\">\n",
              "\n",
              "  <div class=\"colab-df-container\">\n",
              "    <button class=\"colab-df-convert\" onclick=\"convertToInteractive('df-d7bff218-aa71-4dca-840a-440cb79589b2')\"\n",
              "            title=\"Convert this dataframe to an interactive table.\"\n",
              "            style=\"display:none;\">\n",
              "\n",
              "  <svg xmlns=\"http://www.w3.org/2000/svg\" height=\"24px\" viewBox=\"0 -960 960 960\">\n",
              "    <path d=\"M120-120v-720h720v720H120Zm60-500h600v-160H180v160Zm220 220h160v-160H400v160Zm0 220h160v-160H400v160ZM180-400h160v-160H180v160Zm440 0h160v-160H620v160ZM180-180h160v-160H180v160Zm440 0h160v-160H620v160Z\"/>\n",
              "  </svg>\n",
              "    </button>\n",
              "\n",
              "  <style>\n",
              "    .colab-df-container {\n",
              "      display:flex;\n",
              "      gap: 12px;\n",
              "    }\n",
              "\n",
              "    .colab-df-convert {\n",
              "      background-color: #E8F0FE;\n",
              "      border: none;\n",
              "      border-radius: 50%;\n",
              "      cursor: pointer;\n",
              "      display: none;\n",
              "      fill: #1967D2;\n",
              "      height: 32px;\n",
              "      padding: 0 0 0 0;\n",
              "      width: 32px;\n",
              "    }\n",
              "\n",
              "    .colab-df-convert:hover {\n",
              "      background-color: #E2EBFA;\n",
              "      box-shadow: 0px 1px 2px rgba(60, 64, 67, 0.3), 0px 1px 3px 1px rgba(60, 64, 67, 0.15);\n",
              "      fill: #174EA6;\n",
              "    }\n",
              "\n",
              "    .colab-df-buttons div {\n",
              "      margin-bottom: 4px;\n",
              "    }\n",
              "\n",
              "    [theme=dark] .colab-df-convert {\n",
              "      background-color: #3B4455;\n",
              "      fill: #D2E3FC;\n",
              "    }\n",
              "\n",
              "    [theme=dark] .colab-df-convert:hover {\n",
              "      background-color: #434B5C;\n",
              "      box-shadow: 0px 1px 3px 1px rgba(0, 0, 0, 0.15);\n",
              "      filter: drop-shadow(0px 1px 2px rgba(0, 0, 0, 0.3));\n",
              "      fill: #FFFFFF;\n",
              "    }\n",
              "  </style>\n",
              "\n",
              "    <script>\n",
              "      const buttonEl =\n",
              "        document.querySelector('#df-d7bff218-aa71-4dca-840a-440cb79589b2 button.colab-df-convert');\n",
              "      buttonEl.style.display =\n",
              "        google.colab.kernel.accessAllowed ? 'block' : 'none';\n",
              "\n",
              "      async function convertToInteractive(key) {\n",
              "        const element = document.querySelector('#df-d7bff218-aa71-4dca-840a-440cb79589b2');\n",
              "        const dataTable =\n",
              "          await google.colab.kernel.invokeFunction('convertToInteractive',\n",
              "                                                    [key], {});\n",
              "        if (!dataTable) return;\n",
              "\n",
              "        const docLinkHtml = 'Like what you see? Visit the ' +\n",
              "          '<a target=\"_blank\" href=https://colab.research.google.com/notebooks/data_table.ipynb>data table notebook</a>'\n",
              "          + ' to learn more about interactive tables.';\n",
              "        element.innerHTML = '';\n",
              "        dataTable['output_type'] = 'display_data';\n",
              "        await google.colab.output.renderOutput(dataTable, element);\n",
              "        const docLink = document.createElement('div');\n",
              "        docLink.innerHTML = docLinkHtml;\n",
              "        element.appendChild(docLink);\n",
              "      }\n",
              "    </script>\n",
              "  </div>\n",
              "\n",
              "\n",
              "    </div>\n",
              "  </div>\n"
            ],
            "application/vnd.google.colaboratory.intrinsic+json": {
              "type": "dataframe",
              "summary": "{\n  \"name\": \"#It looks very balanced dataset\",\n  \"rows\": 1,\n  \"fields\": [\n    {\n      \"column\": \"age\",\n      \"properties\": {\n        \"dtype\": \"number\",\n        \"std\": null,\n        \"min\": 0,\n        \"max\": 0,\n        \"num_unique_values\": 1,\n        \"samples\": [\n          0\n        ],\n        \"semantic_type\": \"\",\n        \"description\": \"\"\n      }\n    },\n    {\n      \"column\": \"sex\",\n      \"properties\": {\n        \"dtype\": \"number\",\n        \"std\": null,\n        \"min\": 0,\n        \"max\": 0,\n        \"num_unique_values\": 1,\n        \"samples\": [\n          0\n        ],\n        \"semantic_type\": \"\",\n        \"description\": \"\"\n      }\n    },\n    {\n      \"column\": \"cp\",\n      \"properties\": {\n        \"dtype\": \"number\",\n        \"std\": null,\n        \"min\": 0,\n        \"max\": 0,\n        \"num_unique_values\": 1,\n        \"samples\": [\n          0\n        ],\n        \"semantic_type\": \"\",\n        \"description\": \"\"\n      }\n    },\n    {\n      \"column\": \"trestbps\",\n      \"properties\": {\n        \"dtype\": \"number\",\n        \"std\": null,\n        \"min\": 0,\n        \"max\": 0,\n        \"num_unique_values\": 1,\n        \"samples\": [\n          0\n        ],\n        \"semantic_type\": \"\",\n        \"description\": \"\"\n      }\n    },\n    {\n      \"column\": \"chol\",\n      \"properties\": {\n        \"dtype\": \"number\",\n        \"std\": null,\n        \"min\": 0,\n        \"max\": 0,\n        \"num_unique_values\": 1,\n        \"samples\": [\n          0\n        ],\n        \"semantic_type\": \"\",\n        \"description\": \"\"\n      }\n    },\n    {\n      \"column\": \"fbs\",\n      \"properties\": {\n        \"dtype\": \"number\",\n        \"std\": null,\n        \"min\": 0,\n        \"max\": 0,\n        \"num_unique_values\": 1,\n        \"samples\": [\n          0\n        ],\n        \"semantic_type\": \"\",\n        \"description\": \"\"\n      }\n    },\n    {\n      \"column\": \"restecg\",\n      \"properties\": {\n        \"dtype\": \"number\",\n        \"std\": null,\n        \"min\": 0,\n        \"max\": 0,\n        \"num_unique_values\": 1,\n        \"samples\": [\n          0\n        ],\n        \"semantic_type\": \"\",\n        \"description\": \"\"\n      }\n    },\n    {\n      \"column\": \"thalach\",\n      \"properties\": {\n        \"dtype\": \"number\",\n        \"std\": null,\n        \"min\": 0,\n        \"max\": 0,\n        \"num_unique_values\": 1,\n        \"samples\": [\n          0\n        ],\n        \"semantic_type\": \"\",\n        \"description\": \"\"\n      }\n    },\n    {\n      \"column\": \"exang\",\n      \"properties\": {\n        \"dtype\": \"number\",\n        \"std\": null,\n        \"min\": 0,\n        \"max\": 0,\n        \"num_unique_values\": 1,\n        \"samples\": [\n          0\n        ],\n        \"semantic_type\": \"\",\n        \"description\": \"\"\n      }\n    },\n    {\n      \"column\": \"oldpeak\",\n      \"properties\": {\n        \"dtype\": \"number\",\n        \"std\": null,\n        \"min\": 0,\n        \"max\": 0,\n        \"num_unique_values\": 1,\n        \"samples\": [\n          0\n        ],\n        \"semantic_type\": \"\",\n        \"description\": \"\"\n      }\n    },\n    {\n      \"column\": \"slope\",\n      \"properties\": {\n        \"dtype\": \"number\",\n        \"std\": null,\n        \"min\": 0,\n        \"max\": 0,\n        \"num_unique_values\": 1,\n        \"samples\": [\n          0\n        ],\n        \"semantic_type\": \"\",\n        \"description\": \"\"\n      }\n    },\n    {\n      \"column\": \"ca\",\n      \"properties\": {\n        \"dtype\": \"number\",\n        \"std\": null,\n        \"min\": 0,\n        \"max\": 0,\n        \"num_unique_values\": 1,\n        \"samples\": [\n          0\n        ],\n        \"semantic_type\": \"\",\n        \"description\": \"\"\n      }\n    },\n    {\n      \"column\": \"thal\",\n      \"properties\": {\n        \"dtype\": \"number\",\n        \"std\": null,\n        \"min\": 0,\n        \"max\": 0,\n        \"num_unique_values\": 1,\n        \"samples\": [\n          0\n        ],\n        \"semantic_type\": \"\",\n        \"description\": \"\"\n      }\n    },\n    {\n      \"column\": \"target\",\n      \"properties\": {\n        \"dtype\": \"number\",\n        \"std\": null,\n        \"min\": 0,\n        \"max\": 0,\n        \"num_unique_values\": 1,\n        \"samples\": [\n          0\n        ],\n        \"semantic_type\": \"\",\n        \"description\": \"\"\n      }\n    }\n  ]\n}"
            }
          },
          "metadata": {},
          "execution_count": 316
        }
      ]
    },
    {
      "cell_type": "markdown",
      "source": [
        "## Train-Test Split\n",
        "\n",
        "We prepare the dataset for training by:\n",
        "\n",
        "- **Separating features and target**:\n",
        "  - Drop `Target` (the target column)  (excluded from modeling).\n",
        "- **Splitting the data**:\n",
        "  - 80% of the data is used for training, and 20% for testing.\n",
        "  - `shuffle=True` ensures random distribution.\n",
        "  - `random_state=42` keeps the split reproducible across runs.\n"
      ],
      "metadata": {
        "id": "cvSYx0oYD7gQ"
      }
    },
    {
      "cell_type": "code",
      "source": [
        "# Split the balanced dataset into features (X) and target (y)\n",
        "# Dropping 'target' column as it's target\n",
        "X = dataset.drop(columns=[ \"target\"]).values #This drops only target and making every other column as feature\n",
        "y = dataset[\"target\"].values #Making y target\n",
        "\n",
        "# Perform an 80-20 train-test split\n",
        "X_train, X_test, y_train, y_test = train_test_split(\n",
        "    X,                #feature\n",
        "    y,                #Target\n",
        "    train_size=0.8,   #remaing 0.2 is test set\n",
        "    random_state=42,  # For consistent results\n",
        "    shuffle=True      # Ensure data is randomly shuffled before splitting\n",
        ")\n"
      ],
      "metadata": {
        "id": "PBlGyMnD9pTL"
      },
      "execution_count": 317,
      "outputs": []
    },
    {
      "cell_type": "markdown",
      "source": [
        "## Data Preprocessing\n",
        "\n",
        "We apply feature scaling to normalize the dataset:\n",
        "\n",
        "- **StandardScaler** is used to scale the data to have zero mean and unit variance.\n",
        "- **QuantileTransformer** was tested as an alternative  it maps the features to a normal distribution, reducing the influence of outliers.\n",
        "\n",
        "\n",
        "\n",
        "```\n",
        "Scaler or QuantieTranformer are’t always needed\n",
        "eg: tree models like RandomForest work fine without Scaling\n",
        "but it helps models sensitive to feature magnitude\n",
        "(e.g., Logistic Regression, SVM) learn better and generalize well.\n",
        "\n",
        "```\n",
        "\n"
      ],
      "metadata": {
        "id": "QnwZ_bkiEC79"
      }
    },
    {
      "cell_type": "code",
      "source": [
        "# Import preprocessing tools\n",
        "from sklearn.preprocessing import StandardScaler, QuantileTransformer"
      ],
      "metadata": {
        "id": "_p4ozs4zvh3U"
      },
      "execution_count": 318,
      "outputs": []
    },
    {
      "cell_type": "code",
      "source": [
        "# Initialize StandardScaler for normalization (zero mean, unit variance)\n",
        "scaler = StandardScaler()\n",
        "\n",
        "# Apply StandardScaler: fit on training, transform both train and test\n",
        "X_train_scaled = scaler.fit_transform(X_train)\n",
        "X_test_scaled = scaler.transform(X_test)\n",
        "\n",
        "# QuantileTransformer was tested but not used due to risk of overfitting\n",
        "# It smooths outliers, but may distort the feature distribution too much on small datasets\n"
      ],
      "metadata": {
        "id": "iRCZmAj19wob"
      },
      "execution_count": 319,
      "outputs": []
    },
    {
      "cell_type": "markdown",
      "source": [
        "## (Optional) Testing QuantileTransformer\n",
        "\n",
        "This block was used to test how `QuantileTransformer` affects the data.\n",
        "\n",
        "- It transforms features to follow a normal distribution.\n",
        "- Good for handling skewed data or reducing the impact of outliers.\n",
        "\n",
        "However, the transformed values may **distort original feature relationships**, potentially leading to **overfitting** — especially in small or sensitive datasets.\n",
        "\n",
        "> As a result, this approach was not used in the final model.\n"
      ],
      "metadata": {
        "id": "UwmQOcJNEN-p"
      }
    },
    {
      "cell_type": "code",
      "source": [
        "# Also initialize QuantileTransformer for comparison\n",
        "# It transforms features to follow a normal distribution and reduces the effect of outliers\n",
        "qt = QuantileTransformer(output_distribution=\"normal\")"
      ],
      "metadata": {
        "id": "Z4VuOehX4LyX"
      },
      "execution_count": 320,
      "outputs": []
    },
    {
      "cell_type": "code",
      "source": [
        "X_train_qt=qt.fit_transform(X_train)\n",
        "X_test__qt=qt.transform(X_test)\n",
        "\n",
        "print(f'Quantile Scaler Train: {pd.DataFrame(X_train_qt)}')\n",
        "print(f'Quantile Scale Test: {pd.DataFrame(X_test__qt)}')"
      ],
      "metadata": {
        "colab": {
          "base_uri": "https://localhost:8080/"
        },
        "id": "WbqzUlXO9-wh",
        "outputId": "0620fd27-e079-4c73-88f2-27ea072e38e2"
      },
      "execution_count": 321,
      "outputs": [
        {
          "output_type": "stream",
          "name": "stdout",
          "text": [
            "Quantile Scaler Train:            0         1         2         3         4         5         6   \\\n",
            "0   -0.578567  5.199338  0.777068 -0.882902 -2.231606 -5.199338 -5.199338   \n",
            "1    1.007286 -5.199338 -5.199338  2.290747  1.577093 -5.199338  0.645003   \n",
            "2   -0.144348 -5.199338  0.777068 -1.621054  0.523347 -5.199338 -5.199338   \n",
            "3    0.471389  5.199338 -5.199338  0.288592 -0.116566 -5.199338  0.645003   \n",
            "4   -0.445889  5.199338  0.777068 -0.319042  0.101172  5.199338 -5.199338   \n",
            "..        ...       ...       ...       ...       ...       ...       ...   \n",
            "815 -1.353725  5.199338  0.777068  0.001530 -0.567746 -5.199338 -5.199338   \n",
            "816  0.683160  5.199338 -5.199338  0.620698 -0.754499 -5.199338 -5.199338   \n",
            "817 -0.445889  5.199338 -5.199338  0.620698  1.070280 -5.199338  0.645003   \n",
            "818 -1.078456  5.199338 -5.199338 -1.309172 -0.667781 -5.199338  0.645003   \n",
            "819 -0.340046  5.199338 -5.199338 -1.059489 -0.234744 -5.199338  0.645003   \n",
            "\n",
            "           7         8         9         10        11        12  \n",
            "0   -0.914993 -5.199338  0.041330  5.199338  1.626774 -0.429049  \n",
            "1    0.068918  5.199338 -5.199338  5.199338 -5.199338 -0.429049  \n",
            "2    0.681229 -5.199338 -5.199338  5.199338 -5.199338 -0.429049  \n",
            "3    0.400695 -5.199338 -0.169136 -0.509359 -5.199338  5.199338  \n",
            "4    0.663961 -5.199338  1.075723 -0.509359 -5.199338 -0.429049  \n",
            "..        ...       ...       ...       ...       ...       ...  \n",
            "815  0.710472 -5.199338  0.891977 -0.509359 -5.199338 -0.429049  \n",
            "816 -0.587636  5.199338  0.804262  5.199338  0.457752  5.199338  \n",
            "817  1.081197  5.199338  0.622554  5.199338 -5.199338  5.199338  \n",
            "818  0.400695 -5.199338 -5.199338  5.199338 -5.199338  5.199338  \n",
            "819  0.336805 -5.199338 -5.199338  5.199338  0.457752 -0.429049  \n",
            "\n",
            "[820 rows x 13 columns]\n",
            "Quantile Scale Test:            0         1         2         3         4         5         6   \\\n",
            "0    0.779140 -5.199338 -5.199338 -0.394071 -0.708504 -5.199338  0.645003   \n",
            "1   -0.248925 -5.199338  0.777068 -0.198708 -0.540978 -5.199338 -5.199338   \n",
            "2   -0.038267  5.199338 -5.199338  1.460772  0.931397 -5.199338 -5.199338   \n",
            "3   -0.526860 -5.199338  0.159829 -0.643120  0.081195 -5.199338  0.645003   \n",
            "4   -0.633738  5.199338 -5.199338  0.001530  0.327103  5.199338 -5.199338   \n",
            "..        ...       ...       ...       ...       ...       ...       ...   \n",
            "200  1.656206  5.199338  0.777068 -0.882902  0.718373 -5.199338  0.645003   \n",
            "201 -1.353725  5.199338  0.159829  0.288592 -0.891977 -5.199338  0.645003   \n",
            "202 -0.960117  5.199338  0.777068 -0.643120 -0.335186 -5.199338  0.645003   \n",
            "203  0.683160  5.199338 -5.199338  0.620698 -0.754499 -5.199338 -5.199338   \n",
            "204  0.315823  5.199338  0.777068 -1.059489 -0.234744 -5.199338 -5.199338   \n",
            "\n",
            "           7         8         9         10        11        12  \n",
            "0    0.544525 -5.199338 -5.199338  5.199338 -5.199338 -0.429049  \n",
            "1   -1.305575 -5.199338 -5.199338  5.199338 -5.199338 -5.199338  \n",
            "2   -0.277442  5.199338  0.041330 -0.509359  0.457752  5.199338  \n",
            "3    0.462856 -5.199338  0.241040  5.199338 -5.199338 -0.429049  \n",
            "4   -0.113485  5.199338 -5.199338  5.199338  1.030430  5.199338  \n",
            "..        ...       ...       ...       ...       ...       ...  \n",
            "200 -0.064317 -5.199338  0.176903  5.199338  0.457752  5.199338  \n",
            "201 -0.700658 -5.199338 -5.199338 -0.509359 -5.199338 -1.822520  \n",
            "202  0.768816 -5.199338 -5.199338  5.199338 -5.199338 -0.429049  \n",
            "203 -0.587636  5.199338  0.804262  5.199338  0.457752  5.199338  \n",
            "204  0.628136 -5.199338  1.109072 -0.509359  0.457752  5.199338  \n",
            "\n",
            "[205 rows x 13 columns]\n"
          ]
        },
        {
          "output_type": "stream",
          "name": "stderr",
          "text": [
            "/usr/local/lib/python3.11/dist-packages/sklearn/preprocessing/_data.py:2829: UserWarning: n_quantiles (1000) is greater than the total number of samples (820). n_quantiles is set to n_samples.\n",
            "  warnings.warn(\n"
          ]
        }
      ]
    },
    {
      "cell_type": "code",
      "source": [
        "# Matplotlib (for visualization)\n",
        "# This section is used to visually compare the effect of different scalers (StandardScaler vs. QuantileTransformer)\n",
        "import matplotlib.pyplot as plt\n",
        "\n",
        "\n",
        "# Function to plot distributions of the first 3 features\n",
        "def plot_feature_dist(X, title):\n",
        "    plt.figure(figsize=(10, 4))\n",
        "    for i in range(3):  # Plot first 3 features only\n",
        "        plt.subplot(1, 3, i + 1)\n",
        "        plt.hist(X[:, i], bins=30)\n",
        "        plt.title(f\"{title} - Feature {i}\")\n",
        "    plt.tight_layout()\n",
        "    plt.show()\n",
        "\n",
        "# Visual comparisons:\n",
        "plot_feature_dist(X_train, \"Original\")\n",
        "plot_feature_dist(X_train_scaled, \"Standard Scaled\")\n",
        "plot_feature_dist(X_train_qt, \"Quantile Transformed\")\n",
        "\n"
      ],
      "metadata": {
        "colab": {
          "base_uri": "https://localhost:8080/",
          "height": 1000
        },
        "id": "Qv_LRZ7e-Be2",
        "outputId": "a719a392-a173-431e-e192-1a7bc4a8889d"
      },
      "execution_count": 322,
      "outputs": [
        {
          "output_type": "display_data",
          "data": {
            "text/plain": [
              "<Figure size 1000x400 with 3 Axes>"
            ],
            "image/png": "[encoded data removed]"
          },
          "metadata": {}
        },
        {
          "output_type": "display_data",
          "data": {
            "text/plain": [
              "<Figure size 1000x400 with 3 Axes>"
            ],
            "image/png": "[encoded data removed]"
          },
          "metadata": {}
        },
        {
          "output_type": "display_data",
          "data": {
            "text/plain": [
              "<Figure size 1000x400 with 3 Axes>"
            ],
            "image/png": "[encoded data removed]"
          },
          "metadata": {}
        }
      ]
    },
    {
      "cell_type": "markdown",
      "source": [
        "## Model & Metric Imports\n",
        "\n",
        "This section loads various classification models and evaluation metrics:\n",
        "\n",
        "###  Models:\n",
        "- **Logistic Regression**: Linear classifier\n",
        "- **K-Nearest Neighbors**\n",
        "- **Decision Tree**\n",
        "- **Random Forest**\n",
        "- **AdaBoost**, **Gradient Boosting**\n",
        "- **Support Vector Classifier (SVC)**\n",
        "- **XGBoost Classifier**\n",
        "- **Gaussian Naive Bayes**\n",
        "\n",
        "### Evaluation Metrics:\n",
        "- `accuracy_score`: Measures overall correctness\n",
        "- `precision_score`: Measures correctness for the positive class\n",
        "- `confusion_matrix`: Shows actual vs. predicted values\n",
        "- `classification_report`: Summary of precision, recall, and F1-score\n",
        "\n",
        "> **Clarification:**  \n",
        "> Metrics do **not** give weights to features.  \n",
        "> They are only used to evaluate the performance of trained models.\n"
      ],
      "metadata": {
        "id": "9eL0ZuuNFIqr"
      }
    },
    {
      "cell_type": "code",
      "source": [
        "# Metrics :evaluate model performance on predicted vs. actual values.\n",
        "# Importing the Models\n",
        "from sklearn.linear_model import LogisticRegression\n",
        "from sklearn.neighbors import KNeighborsClassifier\n",
        "from sklearn.ensemble import (\n",
        "    RandomForestClassifier,\n",
        "    AdaBoostClassifier,\n",
        "    GradientBoostingClassifier,\n",
        ")\n",
        "from sklearn.tree import DecisionTreeClassifier\n",
        "from sklearn.svm import SVC\n",
        "from xgboost import XGBClassifier\n",
        "from sklearn.metrics import accuracy_score, precision_score, classification_report\n",
        "from sklearn.metrics import confusion_matrix\n",
        "from sklearn.naive_bayes import GaussianNB"
      ],
      "metadata": {
        "id": "z7mZF6-R-GYM"
      },
      "execution_count": 323,
      "outputs": []
    },
    {
      "cell_type": "code",
      "source": [
        "# Defining the list of classifiers so that thhey can be passed at same time\n",
        "# The purpose is to stream line and comapre different acuracy by individual models\n",
        "# Then selecting the optimal\n",
        "classifier_models = [\n",
        "    RandomForestClassifier(),\n",
        "    LogisticRegression(),\n",
        "    KNeighborsClassifier(),\n",
        "    AdaBoostClassifier(algorithm=\"SAMME\"),  # the alrithm in adaboost by default is SAMME but defining it doest show the error\n",
        "    GradientBoostingClassifier(),\n",
        "    DecisionTreeClassifier(),\n",
        "    SVC(),\n",
        "    XGBClassifier(),\n",
        "    GaussianNB(),\n",
        "]\n"
      ],
      "metadata": {
        "id": "MiBw3Wub-Yvn"
      },
      "execution_count": 324,
      "outputs": []
    },
    {
      "cell_type": "markdown",
      "source": [
        "## Defining Classifiers for Batch Evaluation\n",
        "\n",
        "We define a list of classification models that will be trained and tested in a loop. This allows:\n",
        "\n",
        "- Easier model comparison\n",
        "- Streamlined evaluation of performance (e.g., accuracy, precision)\n",
        "- Selection of the most effective model for the task\n",
        "\n",
        "> **Note:**  \n",
        "> `algorithm=\"SAMME\"` is explicitly set in `AdaBoostClassifier`, although it’s the default. This avoids ambiguity and improves readability.\n",
        "\n",
        "An empty list is also prepared (in the next step) to store evaluation results from each model.\n",
        "\n"
      ],
      "metadata": {
        "id": "z7Udd16CFXZW"
      }
    },
    {
      "cell_type": "markdown",
      "source": [
        "Each model is trained and evaluated in a single loop:\n",
        "\n",
        "- **Training**: `.fit()` is called on the scaled training data.\n",
        "- **Prediction**: `.predict()` is used on the test set.\n",
        "- **Metrics Logged**:\n",
        "  - **Accuracy**: Overall correctness.\n",
        "  - **Precision**: How many predicted positives are actually positive.\n",
        "  - **Classification Report**: Includes precision, recall, and F1-score.\n",
        "  - **Confusion Matrix**: Breakdown of TP, FP, TN, FN.\n",
        "\n",
        "### Terminal Formatting (Optional):\n",
        "- Classifier names are printed in **green** using ANSI escape codes for visual clarity.\n",
        "- Symbols (`\"v\"*50`, `\"^\"*50`) create clear separators in the console output.\n",
        "\n",
        "Finally, results are stored in `results_list` for later comparison.\n"
      ],
      "metadata": {
        "id": "xQ4Z6y-LIERc"
      }
    },
    {
      "cell_type": "code",
      "source": [
        "# Train and Evaluate each Calassifier\n",
        "# # Creating empty list so then can be append the individual data here\n",
        "results_list = []\n",
        "\n",
        "# Train and Predict each classifier\n",
        "for clf in classifier_models:\n",
        "    clf_name = clf.__class__.__name__\n",
        "    clf.fit(X_train_scaled, y_train) #This is scaled X train\n",
        "    y_prediction = clf.predict(X_test_scaled)\n",
        "    ##Note:\n",
        "    #Scaling y_train would be wrong unless you’re doing regression with a model that needs target scaling\n",
        "\n",
        "    # For Terminal result printing\n",
        "    # Visual separator for model name output\n",
        "    print(\"v\" * 50)\n",
        "\n",
        "    # Print the classifier name in green for emphasis, then reset color\n",
        "    print(f'\\033[92m{clf_name}\\033[0m')  # \\033[92m = green text, \\033[0m = reset\n",
        "\n",
        "    print(\"^\" * 50)\n",
        "    print()  # Blank line for spacing\n",
        "\n",
        "    # To calculate the accuracy:\n",
        "    accuracy = accuracy_score(y_test, y_prediction)\n",
        "    print(f'{clf_name} accuracy: {accuracy}')\n",
        "    print(\"=\" * 60)\n",
        "\n",
        "    # For Precision\n",
        "    precision = precision_score(y_test, y_prediction, average=\"binary\")\n",
        "    print(f'{clf_name} precision: {precision}')\n",
        "    print(\"=\" * 50)\n",
        "\n",
        "    #Classification report\n",
        "    print(f'Classification Report For: {clf_name}')\n",
        "    print(f'{classification_report(y_test, y_prediction)}')\n",
        "    print(\"=\" * 50)\n",
        "\n",
        "    # Confusion Matrix:\n",
        "\n",
        "    #print(f'Confusion Matrix For: {clf_name}')\n",
        "    #print(f'{confusion_matrix(y_test, y_prediction)}')\n",
        "    #print(\"=\" * 50)\n",
        "\n"
      ],
      "metadata": {
        "colab": {
          "base_uri": "https://localhost:8080/"
        },
        "id": "357qdJik-hw1",
        "outputId": "ea38d638-6b42-4fa6-9dbd-78fe99f361c6"
      },
      "execution_count": 338,
      "outputs": [
        {
          "output_type": "stream",
          "name": "stdout",
          "text": [
            "vvvvvvvvvvvvvvvvvvvvvvvvvvvvvvvvvvvvvvvvvvvvvvvvvv\n",
            "\u001b[92mRandomForestClassifier\u001b[0m\n",
            "^^^^^^^^^^^^^^^^^^^^^^^^^^^^^^^^^^^^^^^^^^^^^^^^^^\n",
            "\n",
            "RandomForestClassifier accuracy: 0.9853658536585366\n",
            "============================================================\n",
            "RandomForestClassifier precision: 1.0\n",
            "==================================================\n",
            "Classification Report For: RandomForestClassifier\n",
            "              precision    recall  f1-score   support\n",
            "\n",
            "           0       0.97      1.00      0.99       102\n",
            "           1       1.00      0.97      0.99       103\n",
            "\n",
            "    accuracy                           0.99       205\n",
            "   macro avg       0.99      0.99      0.99       205\n",
            "weighted avg       0.99      0.99      0.99       205\n",
            "\n",
            "==================================================\n",
            "vvvvvvvvvvvvvvvvvvvvvvvvvvvvvvvvvvvvvvvvvvvvvvvvvv\n",
            "\u001b[92mLogisticRegression\u001b[0m\n",
            "^^^^^^^^^^^^^^^^^^^^^^^^^^^^^^^^^^^^^^^^^^^^^^^^^^\n",
            "\n",
            "LogisticRegression accuracy: 0.7951219512195122\n",
            "============================================================\n",
            "LogisticRegression precision: 0.7563025210084033\n",
            "==================================================\n",
            "Classification Report For: LogisticRegression\n",
            "              precision    recall  f1-score   support\n",
            "\n",
            "           0       0.85      0.72      0.78       102\n",
            "           1       0.76      0.87      0.81       103\n",
            "\n",
            "    accuracy                           0.80       205\n",
            "   macro avg       0.80      0.79      0.79       205\n",
            "weighted avg       0.80      0.80      0.79       205\n",
            "\n",
            "==================================================\n",
            "vvvvvvvvvvvvvvvvvvvvvvvvvvvvvvvvvvvvvvvvvvvvvvvvvv\n",
            "\u001b[92mKNeighborsClassifier\u001b[0m\n",
            "^^^^^^^^^^^^^^^^^^^^^^^^^^^^^^^^^^^^^^^^^^^^^^^^^^\n",
            "\n",
            "KNeighborsClassifier accuracy: 0.8341463414634146\n",
            "============================================================\n",
            "KNeighborsClassifier precision: 0.8\n",
            "==================================================\n",
            "Classification Report For: KNeighborsClassifier\n",
            "              precision    recall  f1-score   support\n",
            "\n",
            "           0       0.88      0.77      0.82       102\n",
            "           1       0.80      0.89      0.84       103\n",
            "\n",
            "    accuracy                           0.83       205\n",
            "   macro avg       0.84      0.83      0.83       205\n",
            "weighted avg       0.84      0.83      0.83       205\n",
            "\n",
            "==================================================\n"
          ]
        },
        {
          "output_type": "stream",
          "name": "stderr",
          "text": [
            "/usr/local/lib/python3.11/dist-packages/sklearn/ensemble/_weight_boosting.py:519: FutureWarning: The parameter 'algorithm' is deprecated in 1.6 and has no effect. It will be removed in version 1.8.\n",
            "  warnings.warn(\n"
          ]
        },
        {
          "output_type": "stream",
          "name": "stdout",
          "text": [
            "vvvvvvvvvvvvvvvvvvvvvvvvvvvvvvvvvvvvvvvvvvvvvvvvvv\n",
            "\u001b[92mAdaBoostClassifier\u001b[0m\n",
            "^^^^^^^^^^^^^^^^^^^^^^^^^^^^^^^^^^^^^^^^^^^^^^^^^^\n",
            "\n",
            "AdaBoostClassifier accuracy: 0.8146341463414634\n",
            "============================================================\n",
            "AdaBoostClassifier precision: 0.7927927927927928\n",
            "==================================================\n",
            "Classification Report For: AdaBoostClassifier\n",
            "              precision    recall  f1-score   support\n",
            "\n",
            "           0       0.84      0.77      0.81       102\n",
            "           1       0.79      0.85      0.82       103\n",
            "\n",
            "    accuracy                           0.81       205\n",
            "   macro avg       0.82      0.81      0.81       205\n",
            "weighted avg       0.82      0.81      0.81       205\n",
            "\n",
            "==================================================\n",
            "vvvvvvvvvvvvvvvvvvvvvvvvvvvvvvvvvvvvvvvvvvvvvvvvvv\n",
            "\u001b[92mGradientBoostingClassifier\u001b[0m\n",
            "^^^^^^^^^^^^^^^^^^^^^^^^^^^^^^^^^^^^^^^^^^^^^^^^^^\n",
            "\n",
            "GradientBoostingClassifier accuracy: 0.9317073170731708\n",
            "============================================================\n",
            "GradientBoostingClassifier precision: 0.9158878504672897\n",
            "==================================================\n",
            "Classification Report For: GradientBoostingClassifier\n",
            "              precision    recall  f1-score   support\n",
            "\n",
            "           0       0.95      0.91      0.93       102\n",
            "           1       0.92      0.95      0.93       103\n",
            "\n",
            "    accuracy                           0.93       205\n",
            "   macro avg       0.93      0.93      0.93       205\n",
            "weighted avg       0.93      0.93      0.93       205\n",
            "\n",
            "==================================================\n",
            "vvvvvvvvvvvvvvvvvvvvvvvvvvvvvvvvvvvvvvvvvvvvvvvvvv\n",
            "\u001b[92mDecisionTreeClassifier\u001b[0m\n",
            "^^^^^^^^^^^^^^^^^^^^^^^^^^^^^^^^^^^^^^^^^^^^^^^^^^\n",
            "\n",
            "DecisionTreeClassifier accuracy: 0.9853658536585366\n",
            "============================================================\n",
            "DecisionTreeClassifier precision: 1.0\n",
            "==================================================\n",
            "Classification Report For: DecisionTreeClassifier\n",
            "              precision    recall  f1-score   support\n",
            "\n",
            "           0       0.97      1.00      0.99       102\n",
            "           1       1.00      0.97      0.99       103\n",
            "\n",
            "    accuracy                           0.99       205\n",
            "   macro avg       0.99      0.99      0.99       205\n",
            "weighted avg       0.99      0.99      0.99       205\n",
            "\n",
            "==================================================\n",
            "vvvvvvvvvvvvvvvvvvvvvvvvvvvvvvvvvvvvvvvvvvvvvvvvvv\n",
            "\u001b[92mSVC\u001b[0m\n",
            "^^^^^^^^^^^^^^^^^^^^^^^^^^^^^^^^^^^^^^^^^^^^^^^^^^\n",
            "\n",
            "SVC accuracy: 0.8878048780487805\n",
            "============================================================\n",
            "SVC precision: 0.8508771929824561\n",
            "==================================================\n",
            "Classification Report For: SVC\n",
            "              precision    recall  f1-score   support\n",
            "\n",
            "           0       0.93      0.83      0.88       102\n",
            "           1       0.85      0.94      0.89       103\n",
            "\n",
            "    accuracy                           0.89       205\n",
            "   macro avg       0.89      0.89      0.89       205\n",
            "weighted avg       0.89      0.89      0.89       205\n",
            "\n",
            "==================================================\n",
            "vvvvvvvvvvvvvvvvvvvvvvvvvvvvvvvvvvvvvvvvvvvvvvvvvv\n",
            "\u001b[92mXGBClassifier\u001b[0m\n",
            "^^^^^^^^^^^^^^^^^^^^^^^^^^^^^^^^^^^^^^^^^^^^^^^^^^\n",
            "\n",
            "XGBClassifier accuracy: 0.9853658536585366\n",
            "============================================================\n",
            "XGBClassifier precision: 1.0\n",
            "==================================================\n",
            "Classification Report For: XGBClassifier\n",
            "              precision    recall  f1-score   support\n",
            "\n",
            "           0       0.97      1.00      0.99       102\n",
            "           1       1.00      0.97      0.99       103\n",
            "\n",
            "    accuracy                           0.99       205\n",
            "   macro avg       0.99      0.99      0.99       205\n",
            "weighted avg       0.99      0.99      0.99       205\n",
            "\n",
            "==================================================\n",
            "vvvvvvvvvvvvvvvvvvvvvvvvvvvvvvvvvvvvvvvvvvvvvvvvvv\n",
            "\u001b[92mGaussianNB\u001b[0m\n",
            "^^^^^^^^^^^^^^^^^^^^^^^^^^^^^^^^^^^^^^^^^^^^^^^^^^\n",
            "\n",
            "GaussianNB accuracy: 0.8\n",
            "============================================================\n",
            "GaussianNB precision: 0.7540983606557377\n",
            "==================================================\n",
            "Classification Report For: GaussianNB\n",
            "              precision    recall  f1-score   support\n",
            "\n",
            "           0       0.87      0.71      0.78       102\n",
            "           1       0.75      0.89      0.82       103\n",
            "\n",
            "    accuracy                           0.80       205\n",
            "   macro avg       0.81      0.80      0.80       205\n",
            "weighted avg       0.81      0.80      0.80       205\n",
            "\n",
            "==================================================\n"
          ]
        }
      ]
    },
    {
      "cell_type": "markdown",
      "source": [
        "## Evaluating Model Performance\n",
        "\n",
        "Each model is evaluated using multiple metrics:\n",
        "\n",
        "- `accuracy_score()`: Overall correctness of predictions.\n",
        "- `classification_report()`: Provides precision, recall, and F1-score.\n",
        "  - `output_dict=True` allows us to extract specific values from the result.\n",
        "  - We use the **weighted average** values to account for class imbalance.\n",
        "\n",
        "The results are stored in a list of dictionaries (`results_list`) for organized comparison across all models.\n"
      ],
      "metadata": {
        "id": "iD4uyOvUHxMq"
      }
    },
    {
      "cell_type": "markdown",
      "source": [
        "## Model Rankings\n",
        "\n",
        "After compiling all evaluation metrics into the `result` DataFrame:\n",
        "\n",
        "- The entire DataFrame is printed with **green terminal text formatting** for visual clarity.\n",
        "- The model with the **highest accuracy** is selected from the top of the sorted DataFrame.\n"
      ],
      "metadata": {
        "id": "sr6GeP6lOHro"
      }
    },
    {
      "cell_type": "markdown",
      "source": [
        "##  Displaying Best Model\n",
        "\n",
        "Once the best model name (`best_model`) is identified from the results DataFrame, we need to match it with the actual trained model object from the list of classifiers.\n",
        "\n",
        "This is done using a loop:"
      ],
      "metadata": {
        "id": "B1ryEZQQKC4n"
      }
    },
    {
      "cell_type": "code",
      "source": [
        "# Match the name with the actual trained model instance\n",
        "for clf in classifier_models:\n",
        "    best_model = clf\n",
        "    break\n",
        "\n",
        "print(\"+\"*80)\n",
        "print(f'\\033[92m     Best Model is : {best_model}\\033[0m')\n",
        "print(\"+\"*80)\n"
      ],
      "metadata": {
        "colab": {
          "base_uri": "https://localhost:8080/"
        },
        "id": "TH9f69Ix_BNs",
        "outputId": "dcfe0d46-5cd4-4c5e-d409-c46b8b87b214"
      },
      "execution_count": 339,
      "outputs": [
        {
          "output_type": "stream",
          "name": "stdout",
          "text": [
            "++++++++++++++++++++++++++++++++++++++++++++++++++++++++++++++++++++++++++++++++\n",
            "\u001b[92m     Best Model is : RandomForestClassifier()\u001b[0m\n",
            "++++++++++++++++++++++++++++++++++++++++++++++++++++++++++++++++++++++++++++++++\n"
          ]
        }
      ]
    },
    {
      "cell_type": "code",
      "source": [
        "#To check the type\n",
        "print(type(best_model)) #Now best model is a classfier\n",
        "print(type(scaler))"
      ],
      "metadata": {
        "colab": {
          "base_uri": "https://localhost:8080/"
        },
        "id": "DgaNHHJb8rto",
        "outputId": "68f04810-c6cd-44fe-db50-8e517dc95212"
      },
      "execution_count": 340,
      "outputs": [
        {
          "output_type": "stream",
          "name": "stdout",
          "text": [
            "<class 'sklearn.ensemble._forest.RandomForestClassifier'>\n",
            "<class 'sklearn.preprocessing._data.StandardScaler'>\n"
          ]
        }
      ]
    },
    {
      "cell_type": "markdown",
      "source": [
        "##Saving Best Model"
      ],
      "metadata": {
        "id": "EONLLAY2wsG0"
      }
    },
    {
      "cell_type": "code",
      "source": [
        "import pickle\n",
        "\n",
        "\n",
        "pickle.dump(best_model, open(r\"best_model.pkl\", \"wb\"))\n",
        "pickle.dump(scaler, open(r\"scaler.pkl\", \"wb\"))\n"
      ],
      "metadata": {
        "id": "W1IBn99eO0sv"
      },
      "execution_count": 341,
      "outputs": []
    },
    {
      "cell_type": "markdown",
      "source": [
        "##Importing the saved model"
      ],
      "metadata": {
        "id": "Ai3ZOTuO83I3"
      }
    },
    {
      "cell_type": "code",
      "source": [
        "with open(r'best_model.pkl','rb')as file:\n",
        "    model=pickle.load(file)\n"
      ],
      "metadata": {
        "id": "xt5UhtOK-tDA"
      },
      "execution_count": 342,
      "outputs": []
    },
    {
      "cell_type": "markdown",
      "source": [
        "##Testing the Model"
      ],
      "metadata": {
        "id": "h3wQbduDARCr"
      }
    },
    {
      "cell_type": "markdown",
      "source": [
        "###Test-1"
      ],
      "metadata": {
        "id": "21dyv4vRAX62"
      }
    },
    {
      "cell_type": "code",
      "source": [
        "#Artififial test parameters\n",
        "case_hd = np.array([[59, 1, 1, 140, 221, 0, 1, 164, 1, 0.0, 2, 0, 2]])\n",
        "#respective labels:age, sex,cp,trestbps,chol,fbs,restecg,thalach,exang,oldpeak,slope,ca,thal,target\n",
        "\n",
        "# Use the loaded best/our best model for predictions\n",
        "test_prediction = model.predict(case_hd)[0]\n",
        "\n",
        "if test_prediction==0:\n",
        "  print( f' Patient has NO Heart Problem')\n",
        "else:\n",
        "  print( f' Patient Has Heart Problem')\n",
        "#print(f\"HD case prediction: {pred_hd} (1 = Heart Disease, 0 = No)\")\n"
      ],
      "metadata": {
        "colab": {
          "base_uri": "https://localhost:8080/"
        },
        "id": "ndC-arrA-Aob",
        "outputId": "7accdf4e-a282-4091-9da8-1407c8bdda6a"
      },
      "execution_count": 331,
      "outputs": [
        {
          "output_type": "stream",
          "name": "stdout",
          "text": [
            " Patient Has Heart Problem\n"
          ]
        }
      ]
    },
    {
      "cell_type": "markdown",
      "source": [
        "###Test-2"
      ],
      "metadata": {
        "id": "mkFZEh4ANKG7"
      }
    },
    {
      "cell_type": "code",
      "source": [
        "#respective labels:age, sex,cp,trestbps,chol,fbs,restecg,thalach,exang,oldpeak,slope,ca,thal,target\n",
        "case_no_hd = np.array([[52, 1, 0, 125, 212, 0, 1, 168, 0, 1.0, 2, 2, 3]]) # No heart disease\n",
        "\n",
        "test_prediction1 = model.predict(case_no_hd)[0]\n",
        "\n",
        "if test_prediction1==0:\n",
        "  print( f' Patient has NO Heart Problem')\n",
        "else:\n",
        "  print( f' Patient Has Heart Problem')"
      ],
      "metadata": {
        "colab": {
          "base_uri": "https://localhost:8080/"
        },
        "id": "03NXCz0kBPpl",
        "outputId": "e567b604-ea73-4e61-8d68-a76c0c0ef3d3"
      },
      "execution_count": 332,
      "outputs": [
        {
          "output_type": "stream",
          "name": "stdout",
          "text": [
            " Patient has NO Heart Problem\n"
          ]
        }
      ]
    },
    {
      "cell_type": "markdown",
      "source": [
        "##Final Notes:\n",
        "\n",
        "- Unrealistic/extreme inputs cause unstable predictions; realistic values give consistent results.\n",
        "Inconsistent outputs were due to random splits without a fixed seed.\n",
        "\n",
        "- Dataset imbalance needs stratified splitting or resampling.\n",
        "\n",
        "- Saving models with pickle ensures correct loading and reuse.\n",
        "\n",
        "- Preprocessing (e.g., scaling) generally improves stability and performance.\n",
        "\n",
        "- Achieved accuracy 98% without overfitting.\n",
        "\n",
        "- Balanced data, realistic inputs, reproducibility, and preprocessing are key for reliable ML pipelines."
      ],
      "metadata": {
        "id": "_y1UlIQYRnSZ"
      }
    },
    {
      "cell_type": "markdown",
      "source": [
        "## Author\n",
        " <p align=\"left\">\n",
        "  Created and maintained by\n",
        "  <a href=\"https://github.com/aypy01\" target=\"_blank\"> Aaditya Yadav</a>\n",
        "  <a href=\"https://github.com/aypy01\" target=\"_blank\">\n",
        "    <img src=\"https://img.shields.io/badge/aypy01-000000?style=flat-square&logo=github&logoColor=00FF80\" alt=\"GitHub Badge\"/>\n",
        "  </a>\n",
        "</p>\n",
        "\n",
        "</p>\n",
        "<p align=\"left\">\n",
        "  <img src=\"https://readme-typing-svg.demolab.com?font=Fira+Code&duration=3000&pause=500&color=00FF80&center=false&vCenter=false&width=440&lines=Break+Things+First%2C+Understand+Later;Built+to+Debug%2C+Not+Repeat;Learning+What+Actually+Sticks;Code.+Observe.+Refine.\" alt=\"Typing SVG\" />\n",
        "</p>"
      ],
      "metadata": {
        "id": "Ejdbq0SFeNuy"
      }
    },
    {
      "cell_type": "markdown",
      "source": [
        "## License\n",
        "\n",
        "This project is licensed under the [![License: MIT](https://img.shields.io/badge/License-MIT-yellow.svg)](https://opensource.org/licenses/MIT).\n"
      ],
      "metadata": {
        "id": "wtk2b2Edeg6S"
      }
    }
  ]
}